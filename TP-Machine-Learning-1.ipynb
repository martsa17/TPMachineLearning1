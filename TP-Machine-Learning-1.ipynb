{
 "cells": [
  {
   "cell_type": "markdown",
   "id": "economic-grounds",
   "metadata": {},
   "source": [
    "## Atelier 1 : Apprentissage non supervisé avec Python ##"
   ]
  },
  {
   "cell_type": "code",
   "execution_count": 46,
   "id": "harmful-interstate",
   "metadata": {},
   "outputs": [],
   "source": [
    "import numpy as np\n",
    "np.set_printoptions(threshold=10000,suppress=True)\n",
    "import pandas as pd\n",
    "import warnings\n",
    "import matplotlib.pyplot as plt\n",
    "warnings.filterwarnings('ignore')\n"
   ]
  },
  {
   "cell_type": "markdown",
   "id": "assumed-excerpt",
   "metadata": {},
   "source": [
    "### I. Réduction de dimensions et Visualisation des données"
   ]
  },
  {
   "cell_type": "markdown",
   "id": "north-tongue",
   "metadata": {},
   "source": [
    "#### Question 1"
   ]
  },
  {
   "cell_type": "code",
   "execution_count": 129,
   "id": "nonprofit-somerset",
   "metadata": {},
   "outputs": [],
   "source": [
    "data = pd.read_csv(\"villes.csv\", sep=';')\n",
    "X = data.iloc[:, 1:13].values\n",
    "labels = data.iloc[:, 0].values\n"
   ]
  },
  {
   "cell_type": "code",
   "execution_count": 130,
   "id": "liked-potential",
   "metadata": {},
   "outputs": [],
   "source": [
    "from sklearn.preprocessing import StandardScaler #On centre et normalise avant de faire l'ACP\n",
    "sc=StandardScaler()\n",
    "X=sc.fit_transform(X)"
   ]
  },
  {
   "cell_type": "code",
   "execution_count": 131,
   "id": "minor-concentrate",
   "metadata": {},
   "outputs": [
    {
     "data": {
      "text/plain": [
       "PCA()"
      ]
     },
     "execution_count": 131,
     "metadata": {},
     "output_type": "execute_result"
    }
   ],
   "source": [
    "from sklearn import datasets\n",
    "from sklearn import decomposition\n",
    "pca = decomposition.PCA()\n",
    "pca.fit(X)\n"
   ]
  },
  {
   "cell_type": "code",
   "execution_count": 132,
   "id": "meaningful-working",
   "metadata": {},
   "outputs": [
    {
     "data": {
      "text/plain": [
       "array([0.87268193, 0.11720602, 0.00469563, 0.00264791, 0.00113528,\n",
       "       0.00050136, 0.00042289, 0.00032817, 0.00015166, 0.00011764,\n",
       "       0.00008364, 0.00002786])"
      ]
     },
     "execution_count": 132,
     "metadata": {},
     "output_type": "execute_result"
    }
   ],
   "source": [
    "pca.explained_variance_ratio_"
   ]
  },
  {
   "cell_type": "code",
   "execution_count": 133,
   "id": "variable-saudi",
   "metadata": {},
   "outputs": [
    {
     "data": {
      "text/plain": [
       "array([[ 0.27151028,  0.28846164,  0.3010811 ,  0.30354174,  0.28353089,\n",
       "         0.27841907,  0.27290295,  0.28757774,  0.30472022,  0.3038548 ,\n",
       "         0.29242808,  0.2729549 ],\n",
       "       [ 0.39933494,  0.29907184,  0.12943051, -0.11530598, -0.32314291,\n",
       "        -0.35846763, -0.38879639, -0.3010133 , -0.11231622,  0.12249226,\n",
       "         0.26269461,  0.38693688],\n",
       "       [ 0.04409365,  0.03948181,  0.53570204,  0.5113345 ,  0.23821244,\n",
       "         0.05381216, -0.22933643, -0.25421533, -0.27486626, -0.3536259 ,\n",
       "        -0.25411937, -0.07756511],\n",
       "       [-0.1558089 ,  0.07307363,  0.54015114, -0.07666717, -0.3189685 ,\n",
       "        -0.30424435, -0.06181967,  0.16879935,  0.35726159,  0.2857622 ,\n",
       "        -0.15061539, -0.46275418],\n",
       "       [ 0.2584192 ,  0.15926626,  0.1946403 , -0.18824458, -0.55146666,\n",
       "         0.31127222,  0.43376098,  0.16314861, -0.21810887, -0.32453688,\n",
       "        -0.24260357,  0.08371863],\n",
       "       [ 0.43776933,  0.37595552, -0.38220213,  0.1890633 ,  0.17724002,\n",
       "        -0.37334457,  0.16713764,  0.08435234, -0.04199298,  0.09589578,\n",
       "        -0.4472927 , -0.26136447],\n",
       "       [-0.15261312, -0.27903424,  0.16042867,  0.08908556,  0.07905529,\n",
       "        -0.64954049,  0.33342165,  0.33970514, -0.16361469, -0.1640994 ,\n",
       "         0.028229  ,  0.39491533],\n",
       "       [-0.01028354, -0.11269172, -0.15959003,  0.21759522, -0.20645254,\n",
       "         0.13306705, -0.50676147,  0.43406456,  0.27833385, -0.0325829 ,\n",
       "        -0.43165199,  0.3794399 ],\n",
       "       [ 0.27442329, -0.55879505, -0.0577885 ,  0.41281599, -0.31225341,\n",
       "         0.07461705,  0.08076899, -0.04555364, -0.28967752,  0.47114429,\n",
       "         0.06307291, -0.13094479],\n",
       "       [-0.60763063,  0.46883187, -0.10150465,  0.25242373, -0.19109892,\n",
       "         0.04941761,  0.07372181, -0.02139433, -0.37508031,  0.34937943,\n",
       "        -0.07929465,  0.15188277],\n",
       "       [ 0.01339817, -0.17462938,  0.20219948, -0.35683559,  0.24691002,\n",
       "         0.07094949,  0.15117812, -0.35749146,  0.03054986,  0.40302251,\n",
       "        -0.54858438,  0.34662687],\n",
       "       [ 0.11862328,  0.02507744,  0.1554381 , -0.37322221,  0.27805641,\n",
       "         0.09794656, -0.31475444,  0.51545512, -0.55878203,  0.19229164,\n",
       "         0.0309434 , -0.14142013]])"
      ]
     },
     "execution_count": 133,
     "metadata": {},
     "output_type": "execute_result"
    }
   ],
   "source": [
    "pca.components_"
   ]
  },
  {
   "cell_type": "code",
   "execution_count": 134,
   "id": "differential-preparation",
   "metadata": {},
   "outputs": [
    {
     "name": "stdout",
     "output_type": "stream",
     "text": [
      "[[ 5.18728058  0.75978942 -0.57559749  0.08974014 -0.07159801 -0.00586024\n",
      "  -0.16452149  0.06412266 -0.06895496  0.03532137  0.00391946  0.02406588]\n",
      " [-0.88778562  0.76987811  0.11886913 -0.04735606  0.13112443  0.02593166\n",
      "  -0.07411571 -0.0031485  -0.02937015  0.01388333 -0.00287694 -0.01881081]\n",
      " [ 0.40607702  0.4849017   0.36946008  0.16872505 -0.10529304  0.13382185\n",
      "   0.20573072 -0.01948275 -0.01749997  0.00188401 -0.00004347  0.02188452]\n",
      " [-2.9237469  -0.91316957 -0.05478276  0.07625388 -0.13825046 -0.09869485\n",
      "  -0.04690669 -0.00202443  0.04519103 -0.0017481  -0.00222491  0.00254859]\n",
      " [ 3.11703576  2.02750003  0.21990117  0.3231507  -0.08944422 -0.07823654\n",
      "   0.00776009 -0.05772279 -0.01130301 -0.06813079  0.02976282 -0.00983999]\n",
      " [ 2.9532451  -0.19259391  0.66797016  0.16410596 -0.10319012  0.02051635\n",
      "  -0.08933938  0.14942636  0.01232084  0.0020756  -0.0065336   0.00154085]\n",
      " [-2.14172992  3.89449982 -0.11764597 -0.04334357  0.01695231 -0.11660698\n",
      "   0.01727085 -0.02864372  0.09256668  0.01730656 -0.04729979  0.01921735]\n",
      " [-1.38361092 -0.41795585  0.0144055   0.12101048  0.15085685 -0.03358615\n",
      "   0.07436828  0.07125099 -0.031552    0.03436641  0.00110745 -0.0051079 ]\n",
      " [-2.03412946 -1.45031058  0.22462553 -0.00622633 -0.05170445 -0.00870067\n",
      "  -0.04178821 -0.00633937  0.00403273  0.02222272 -0.00836175 -0.00041067]\n",
      " [-3.91247257 -1.28331244 -0.4139819   0.43223311  0.08714111  0.18559152\n",
      "  -0.07586816 -0.05655951  0.08686173 -0.04601221  0.01680774  0.00648182]\n",
      " [-1.16715701 -1.39195746  0.10199101  0.37538132 -0.14488268 -0.1151836\n",
      "   0.00291931 -0.14677188 -0.03037823  0.05512259 -0.01351395 -0.01144658]\n",
      " [-3.69889469  0.88688691 -0.31550142 -0.04201968 -0.05417159  0.03392684\n",
      "   0.08637272  0.11330651  0.01558933 -0.00178821  0.02746091 -0.00351002]\n",
      " [-2.08112507  0.39904176  0.23392595 -0.07564597  0.21575272 -0.07272956\n",
      "  -0.0964098  -0.10018809 -0.04076081  0.01163571  0.02008246  0.00472803]\n",
      " [-0.50628562 -1.59743834  0.08390294  0.00487976  0.02616422 -0.10804077\n",
      "   0.04987013 -0.01442566 -0.01675444 -0.0426294   0.01528727  0.02396276]\n",
      " [ 4.57339727 -1.28318051 -0.18758475 -0.15684461 -0.05368301 -0.11294178\n",
      "   0.02750761  0.0297821   0.03686849  0.01308834  0.07475476  0.00967896]\n",
      " [ 3.92564991 -0.84778424 -0.08424546 -0.01690045  0.05203555  0.00676694\n",
      "   0.04434895 -0.02656258  0.07520132  0.05350812 -0.07871433  0.01882069]\n",
      " [-3.92493824 -0.86045934 -0.11174036 -0.28444513 -0.04986447 -0.03793154\n",
      "   0.00708666 -0.01094715 -0.0113145  -0.07191707 -0.03682499 -0.00823655]\n",
      " [-0.16544865  0.99403038  0.23442471 -0.08145399  0.05503054  0.02408349\n",
      "  -0.07115274 -0.01112254  0.05338833 -0.0624996   0.00002744  0.00997985]\n",
      " [ 5.53740665  0.1013869  -0.12069142  0.0029096  -0.18286678  0.15624842\n",
      "  -0.02234804 -0.06881499 -0.04659773 -0.00114199 -0.02147201  0.0029546 ]\n",
      " [ 4.46514109 -1.36871979 -0.07374161 -0.07235638  0.26069291  0.05592454\n",
      "   0.02893053 -0.02192908  0.01022241 -0.00564768  0.00325463  0.01006302]\n",
      " [-2.18952316  0.16625348 -0.06564267 -0.03130354  0.00352098  0.01523713\n",
      "  -0.00894242  0.03331455 -0.05433233  0.00780084 -0.01640878  0.01789551]\n",
      " [-0.95574528 -0.0842431   0.29412755 -0.26620979 -0.06626541  0.0245011\n",
      "  -0.03707934  0.00867349  0.01604864  0.00208578  0.04636884  0.04058809]\n",
      " [ 6.30598001 -0.5088897   0.08340984 -0.16664492  0.12634848  0.01067424\n",
      "   0.09496796 -0.00679109  0.03640122  0.02835744 -0.00899354 -0.02271665]\n",
      " [-3.00578655 -0.13982978 -0.16979049 -0.18320869 -0.03130844 -0.00838637\n",
      "   0.0406098  -0.01813713 -0.06002923  0.00212798 -0.00540938  0.02924355]\n",
      " [-1.24355136  1.60485753  0.12635653 -0.03147366  0.14833293  0.09640051\n",
      "  -0.01509819 -0.00506155 -0.07214945 -0.00325343 -0.03243663 -0.00576107]\n",
      " [-2.61732539  1.13617654 -0.05245179 -0.12189872 -0.0394059   0.10507971\n",
      "   0.05074753 -0.04995826  0.01217723  0.03502291  0.08491432 -0.02102642]\n",
      " [-3.42491183  0.50323189 -0.18654155  0.1057938  -0.14003638 -0.01637365\n",
      "   0.06224727  0.07824396 -0.0056212   0.04669633 -0.01545078 -0.01786624]\n",
      " [-3.43057934 -1.6532925   0.07816907 -0.3057371  -0.15617164  0.05711564\n",
      "  -0.04502202  0.0180514   0.00379826 -0.02768837 -0.04222283 -0.02668379]\n",
      " [ 6.23320885  0.8341028  -0.2140107  -0.20397176 -0.12706361 -0.03130747\n",
      "   0.00600237 -0.05700409  0.00200669 -0.05293182 -0.00158281 -0.03400027]\n",
      " [ 1.71739119 -0.31651604 -0.06712402  0.26581122  0.12902148 -0.05601332\n",
      "   0.0241352   0.14252155 -0.00770109 -0.06385982 -0.01044869 -0.01305404]\n",
      " [-0.91552206  0.1198502   0.13622773 -0.04841059  0.04791342  0.02089515\n",
      "  -0.10228062  0.02317885  0.04490571  0.07629532  0.02038243 -0.0290516 ]\n",
      " [-1.81154378 -0.37273431 -0.17669257  0.05545593  0.15431228 -0.07212163\n",
      "   0.05999685 -0.02023723 -0.04326152 -0.00955287  0.00668863 -0.01613147]]\n"
     ]
    }
   ],
   "source": [
    "X_pca = pca.transform(X)\n",
    "print(X_pca)"
   ]
  },
  {
   "cell_type": "markdown",
   "id": "duplicate-peninsula",
   "metadata": {},
   "source": [
    "Pour retenir au moins 90% de l'information présente dans le nuage initial, il faut retenir au moins deux axes.\n",
    "Le premier axe représente représente la température moyenne de l'année\n",
    "Le second axe représente la variabilité de température au cours de l'année (valeurs faibles = très chaud été et très froid hiver, valeurs fortes = plus équilibré tout au long de l'année, pas trop froid l'hiver, pas trop chaud l'hiver"
   ]
  },
  {
   "cell_type": "code",
   "execution_count": 135,
   "id": "forbidden-female",
   "metadata": {},
   "outputs": [
    {
     "data": {
      "image/png": "[encoded data removed]",
      "text/plain": [
       "<Figure size 432x288 with 1 Axes>"
      ]
     },
     "metadata": {
      "needs_background": "light"
     },
     "output_type": "display_data"
    }
   ],
   "source": [
    "import matplotlib.pyplot as plt\n",
    "plt.scatter(X_pca[:, 0], X_pca[:, 1])\n",
    "for label, x, y in zip(labels, X_pca[:, 0], X_pca[:, 1]):\n",
    "    plt.annotate(label, xy=(x, y), xytext=(-0.2, 0.2), textcoords='offset points')\n",
    "plt.show()"
   ]
  },
  {
   "cell_type": "markdown",
   "id": "bearing-delhi",
   "metadata": {},
   "source": [
    "#### Question 2"
   ]
  },
  {
   "cell_type": "code",
   "execution_count": 136,
   "id": "furnished-strip",
   "metadata": {},
   "outputs": [
    {
     "name": "stdout",
     "output_type": "stream",
     "text": [
      "Index(['Etat ', 'Meutre', 'Rapt', 'Vol', 'Attaque', 'Viol', 'Larcin',\n",
      "       'Auto_Theft'],\n",
      "      dtype='object')\n"
     ]
    }
   ],
   "source": [
    "data = pd.read_csv(\"crimes.csv\", sep=';')\n",
    "Y = data.iloc[:, 1:13].values\n",
    "labels = data.iloc[:, 0].values\n",
    "print(data.columns)"
   ]
  },
  {
   "cell_type": "code",
   "execution_count": 137,
   "id": "pharmaceutical-sherman",
   "metadata": {},
   "outputs": [
    {
     "data": {
      "text/plain": [
       "PCA()"
      ]
     },
     "execution_count": 137,
     "metadata": {},
     "output_type": "execute_result"
    }
   ],
   "source": [
    "sc=StandardScaler()\n",
    "Y=sc.fit_transform(Y)\n",
    "pca = decomposition.PCA()\n",
    "pca.fit(Y)"
   ]
  },
  {
   "cell_type": "code",
   "execution_count": 138,
   "id": "heavy-provincial",
   "metadata": {},
   "outputs": [
    {
     "data": {
      "text/plain": [
       "array([4.19893828, 1.26400187, 0.74062921, 0.32288984, 0.26323924,\n",
       "       0.22657089, 0.12658781])"
      ]
     },
     "execution_count": 138,
     "metadata": {},
     "output_type": "execute_result"
    }
   ],
   "source": [
    "pca.explained_variance_"
   ]
  },
  {
   "cell_type": "code",
   "execution_count": 139,
   "id": "broad-schedule",
   "metadata": {},
   "outputs": [
    {
     "data": {
      "text/plain": [
       "array([0.58785136, 0.17696026, 0.10368809, 0.04520458, 0.03685349,\n",
       "       0.03171992, 0.01772229])"
      ]
     },
     "execution_count": 139,
     "metadata": {},
     "output_type": "execute_result"
    }
   ],
   "source": [
    "pca.explained_variance_ratio_"
   ]
  },
  {
   "cell_type": "code",
   "execution_count": 140,
   "id": "southeast-cabinet",
   "metadata": {},
   "outputs": [
    {
     "data": {
      "text/plain": [
       "array([[ 0.30027916,  0.43175936,  0.39687549,  0.3966517 ,  0.44015721,\n",
       "         0.35735953,  0.29517681],\n",
       "       [-0.62917444, -0.16943512,  0.04224698, -0.34352815,  0.20334059,\n",
       "         0.40231912,  0.50242093],\n",
       "       [ 0.1782453 , -0.24419758,  0.49586087, -0.06950972, -0.20989509,\n",
       "        -0.53923144,  0.56838373],\n",
       "       [-0.23211411,  0.06221567, -0.55798926,  0.62980445, -0.05755491,\n",
       "        -0.23488987,  0.41923832],\n",
       "       [ 0.53812286,  0.18847069, -0.51997683, -0.50665138,  0.10103335,\n",
       "         0.03009857,  0.36975317],\n",
       "       [-0.25911677,  0.77327066,  0.11438481, -0.17236294, -0.53598716,\n",
       "        -0.03940645,  0.05729763],\n",
       "       [-0.26759277,  0.29648548,  0.00390268, -0.19174459,  0.64811708,\n",
       "        -0.60169004, -0.14704626]])"
      ]
     },
     "execution_count": 140,
     "metadata": {},
     "output_type": "execute_result"
    }
   ],
   "source": [
    "pca.components_\n",
    "#pour connaitre le seuil d'acceptabilité, on fait 1/racine(nbr de variables) = 1/racine(8) = 0.35"
   ]
  },
  {
   "cell_type": "code",
   "execution_count": 141,
   "id": "protected-planet",
   "metadata": {},
   "outputs": [
    {
     "name": "stdout",
     "output_type": "stream",
     "text": [
      "[[-0.05038664 -2.11738312  0.50673755  0.25353338  0.50354699 -0.43802073\n",
      "  -0.11927372]\n",
      " [ 2.44609952  0.16821368 -0.07043914  1.17225334  1.48497546  1.5130117\n",
      "  -0.4695271 ]\n",
      " [ 3.04473945  0.85352343 -1.76973694 -0.11739168  0.28305576 -1.08130788\n",
      "  -0.05809892]\n",
      " [-1.06511538 -1.35910001 -0.01852361  0.02175501  0.02291857  0.38995629\n",
      "   0.31381927]\n",
      " [ 4.32729524  0.14464111  0.27895861  0.02537684  0.05851924  0.38091296\n",
      "   0.46872442]\n",
      " [ 2.53476822  0.92590218 -1.16327185  0.1137457  -0.17095008  0.33439562\n",
      "   0.24310306]\n",
      " [-0.54682536  1.51647081  0.79184365  0.08706541  0.18676319 -0.28425702\n",
      "   0.09053461]\n",
      " [ 0.9743736   1.30990789 -0.53120357 -0.4215613  -0.01891462 -0.40765813\n",
      "  -0.20825779]\n",
      " [ 3.1433462  -0.61004794 -1.22774473  0.50010147 -0.82798767 -0.29252483\n",
      "  -0.36230163]\n",
      " [ 0.49538648 -1.39480696  0.24711306 -0.06310967  0.20415297 -0.02604376\n",
      "   0.33558165]\n",
      " [ 0.8314882   1.84243558 -0.78969418 -1.19223308  1.10439208 -0.55045425\n",
      "   0.10132192]\n",
      " [-1.44699704 -0.00808717 -0.64057632  0.12314642 -0.01510343 -0.10744387\n",
      "  -0.16673124]\n",
      " [ 0.51810976  0.09518714  1.13257945 -0.43562675  0.01844735 -0.03816601\n",
      "  -0.83375701]\n",
      " [-0.50497071  0.0000263   0.24580012 -0.2701695   0.25172449  0.42476981\n",
      "  -0.0307841 ]\n",
      " [-2.60777135  0.83312672 -0.52071138 -0.30390055 -0.29483383 -0.09560522\n",
      "  -0.44688958]\n",
      " [-0.64050434 -0.02832633 -0.50076074 -0.3279264  -0.14794112 -0.20772768\n",
      "   0.02635165]\n",
      " [-1.74444113 -1.15827284  0.66444458 -0.38699498  0.56433872 -0.02353253\n",
      "   0.10884734]\n",
      " [ 1.13157549 -2.10442448  0.37118848  0.20546103  0.36286565 -0.20400864\n",
      "  -0.65063684]\n",
      " [-1.84485248  0.58466102 -0.53781953  0.34106205 -0.48190222 -0.55960483\n",
      "   0.39806189]\n",
      " [ 2.20495924 -0.19671914  0.38552681 -0.18441185 -1.36860863  0.43606873\n",
      "  -0.36370394]\n",
      " [ 0.98837262  2.6577661   2.56806007  1.83151039  0.44521325 -0.09341854\n",
      "   0.20861655]\n",
      " [ 2.29641453  0.156446    0.54111285 -0.33575819 -0.24926935  0.63505155\n",
      "  -0.06738526]\n",
      " [-1.5701229   1.06716271 -0.14771111 -0.3191489  -0.0177475   0.22922255\n",
      "   0.28108987]\n",
      " [-1.52266157 -2.57256867  0.71083727 -0.21194062  0.71675842 -0.46736762\n",
      "   0.19812951]\n",
      " [ 0.56201503 -0.56418149  0.56907724 -0.30984269 -0.15316718  0.06743972\n",
      "   0.12688841]\n",
      " [-1.68494751  0.27374303 -0.37174096  0.14946466  0.0931129   0.04982825\n",
      "  -0.77719744]\n",
      " [-2.1725426   0.22803046 -0.11163951 -0.17010472 -0.16526997  0.42623519\n",
      "  -0.18611633]\n",
      " [ 5.32045863 -0.25518393 -0.30548411 -0.99002745  0.36084217 -0.3425674\n",
      "   0.12538424]\n",
      " [-2.49065521  0.83340615 -0.21161746 -0.08896273  0.1926732  -0.39508994\n",
      "   0.09505655]\n",
      " [ 0.2200858   0.97399795  0.61000462 -0.20104421 -0.24697728 -0.24542829\n",
      "   0.07879213]\n",
      " [ 1.22649786 -0.96040865 -1.08364857  0.54084615 -0.3449836   0.41760453\n",
      "   0.02156434]\n",
      " [ 3.48753164  0.43728785  2.7643984  -1.0037453  -1.28089249 -0.12752736\n",
      "  -0.03363871]\n",
      " [-0.70635086 -1.68722914 -0.09132587  0.65677967 -0.30097059 -0.96388021\n",
      "  -0.20905092]\n",
      " [-4.00432312  0.39160662 -0.08690479 -0.1824281  -0.38622692  0.40880802\n",
      "  -0.09778122]\n",
      " [ 0.24196218  0.09144583  0.46430835 -0.57580774 -0.13555361  0.32936757\n",
      "  -0.07382748]\n",
      " [-0.32462569 -0.63062641 -0.12257501  0.26530759  0.43759378  0.13229763\n",
      "   0.4300248 ]\n",
      " [ 1.46371318  0.59197487 -1.25769391  0.422428   -0.35473032  0.59565677\n",
      "   0.23990765]\n",
      " [-1.73753251 -0.19788687  1.019424   -0.19480317 -0.21730731  0.351728\n",
      "   0.38615966]\n",
      " [-0.20360144  2.16836888  0.96651417  1.14182688  0.31933097 -1.01001815\n",
      "  -0.30053405]\n",
      " [ 1.61963876 -2.18405955 -0.5582155   1.40135523 -0.72924914 -0.69815454\n",
      "   0.22466823]\n",
      " [-3.20423099 -0.25704718 -0.13982033  0.49262791 -0.72160642  0.32540251\n",
      "   0.03682041]\n",
      " [-0.1379819  -1.14649948  0.65962865 -0.16564601  0.18450369  0.21974933\n",
      "   0.6892284 ]\n",
      " [ 1.41114365 -0.68823107 -0.08073224 -0.60988316  0.93898519 -0.16943582\n",
      "   0.01233844]\n",
      " [-1.06061671  0.94606994 -0.64658951 -0.03296163 -0.09267436  0.03078304\n",
      "  -0.18252755]\n",
      " [-2.08528578  0.9545613  -0.51597489  0.10573909 -0.13030424 -0.3139022\n",
      "   0.9226024 ]\n",
      " [-0.92550939 -0.69968678 -0.20645696 -0.43395865  0.22893752  0.10115269\n",
      "  -0.3111467 ]\n",
      " [ 0.94002739  0.7452542  -1.31710841  0.15765099 -0.08844029  0.73547153\n",
      "   0.46782424]\n",
      " [-3.17967935 -0.82251817  0.54235167 -0.16838476  0.04340896  0.16811768\n",
      "   0.20740125]\n",
      " [-2.5283724   0.78875839 -0.43080322 -0.53629049 -0.10931023  0.05829713\n",
      "  -0.25607702]\n",
      " [-1.43909835  0.06331926 -0.58338524  0.22502704  0.04386188  0.38181665\n",
      "  -0.63359835]]\n"
     ]
    }
   ],
   "source": [
    "Y_pca = pca.transform(Y)\n",
    "print(Y_pca)"
   ]
  },
  {
   "cell_type": "markdown",
   "id": "female-diversity",
   "metadata": {},
   "source": [
    "On peut ne retenir que deux axes (deux valeurs propres supérieures à 1).\n",
    "Le premier axe est une moyenne pondérée de toutes les variables (il semble donc qu'il y ait une corrélation positive entre elles : plus un état a un nombre élevé de crimes dans une catégorie, plus il va avoir tendance à avoir un nombre important de crimes dans l'ensembles des cétagories)\n",
    "Le second axe est principalement un agrégé des variables Meutre et Attaque (négativement) et Viol, Larcin et Auto_Theft (positivement). Un état avec une valeur élevée sur cette axe  a donc tendance à avoir un nombre plus élevé de Viol/Larcin/AUto_Theft et moins élevé de Meurtre et Attaque. Et inversement."
   ]
  },
  {
   "cell_type": "code",
   "execution_count": 142,
   "id": "considerable-latex",
   "metadata": {},
   "outputs": [
    {
     "data": {
      "image/png": "[encoded data removed]",
      "text/plain": [
       "<Figure size 432x288 with 1 Axes>"
      ]
     },
     "metadata": {
      "needs_background": "light"
     },
     "output_type": "display_data"
    }
   ],
   "source": [
    "import matplotlib.pyplot as plt\n",
    "plt.scatter(X_pca[:, 0], X_pca[:, 1])\n",
    "for label, x, y in zip(labels, X_pca[:, 0], X_pca[:, 1]):\n",
    "    plt.annotate(label, xy=(x, y), xytext=(-0.2, 0.2), textcoords='offset points')\n",
    "plt.show()"
   ]
  },
  {
   "cell_type": "markdown",
   "id": "athletic-withdrawal",
   "metadata": {},
   "source": [
    "#### Question 3"
   ]
  },
  {
   "cell_type": "code",
   "execution_count": 143,
   "id": "present-sydney",
   "metadata": {},
   "outputs": [
    {
     "name": "stdout",
     "output_type": "stream",
     "text": [
      "Index(['Id', 'Depenses R&D', 'Depenses Administration',\n",
      "       'Depenses Marketing Spend', 'Benefice'],\n",
      "      dtype='object')\n"
     ]
    }
   ],
   "source": [
    "data = pd.read_csv(\"50_Startups.csv\", sep=';')\n",
    "Z = data.iloc[:, 1:13].values\n",
    "labels = data.iloc[:, 0].values\n",
    "print(data.columns)"
   ]
  },
  {
   "cell_type": "code",
   "execution_count": 144,
   "id": "understanding-approval",
   "metadata": {},
   "outputs": [
    {
     "data": {
      "text/plain": [
       "PCA()"
      ]
     },
     "execution_count": 144,
     "metadata": {},
     "output_type": "execute_result"
    }
   ],
   "source": [
    "sc=StandardScaler()\n",
    "Z=sc.fit_transform(Z)\n",
    "pca = decomposition.PCA()\n",
    "pca.fit(Z)"
   ]
  },
  {
   "cell_type": "code",
   "execution_count": 145,
   "id": "objective-chick",
   "metadata": {},
   "outputs": [
    {
     "data": {
      "text/plain": [
       "array([0.66804393, 0.25484695, 0.07063561, 0.00647351])"
      ]
     },
     "execution_count": 145,
     "metadata": {},
     "output_type": "execute_result"
    }
   ],
   "source": [
    "pca.explained_variance_ratio_"
   ]
  },
  {
   "cell_type": "code",
   "execution_count": 146,
   "id": "legal-potential",
   "metadata": {},
   "outputs": [
    {
     "data": {
      "text/plain": [
       "array([[ 0.59347855,  0.14737886,  0.52064694,  0.59580992],\n",
       "       [-0.04048087, -0.95051314,  0.30797098,  0.00632069],\n",
       "       [-0.39681837,  0.2723039 ,  0.79581463, -0.36751167],\n",
       "       [ 0.69905629, -0.02558964,  0.0275629 , -0.71407686]])"
      ]
     },
     "execution_count": 146,
     "metadata": {},
     "output_type": "execute_result"
    }
   ],
   "source": [
    "pca.components_"
   ]
  },
  {
   "cell_type": "markdown",
   "id": "blocked-cleanup",
   "metadata": {},
   "source": [
    "On retient deux axes (car on dépasse 90% avec les deux premières variables).\n",
    "Le premier axe représente un agrégé des variables Depenses R&D, Depenses Administration et Benefice. Il semble donc y avoir une corrélation entre ces variables.\n",
    "Le second représente négativement les dépenses en Administratation (beaucoup de dépenses en administration = valeur faible)"
   ]
  },
  {
   "cell_type": "code",
   "execution_count": 147,
   "id": "hollow-gregory",
   "metadata": {},
   "outputs": [
    {
     "name": "stdout",
     "output_type": "stream",
     "text": [
      "[[ 3.59907884  0.06143503  0.3275448   0.01845081]\n",
      " [ 3.5131408  -0.50334595  0.31474663 -0.03517885]\n",
      " [ 2.96089965  1.1346433  -0.32803913 -0.12460696]\n",
      " [ 2.70753018  0.47788583 -0.16432273 -0.14010092]\n",
      " [ 2.21016916  1.36881155 -0.37037983  0.14546238]\n",
      " [ 1.96975996  1.07940343 -0.13537945  0.14414273]\n",
      " [ 1.23305257 -1.14520803 -1.23185244  0.10456305]\n",
      " [ 2.00589832 -0.58521441  0.08235952  0.09096667]\n",
      " [ 1.78981683 -0.71756422  0.15085671 -0.00147905]\n",
      " [ 1.54839968  0.63484284 -0.28763549  0.12078736]\n",
      " [ 0.898392    0.39484327 -0.54667751 -0.16268534]\n",
      " [ 0.8429801   1.09240842 -0.56798052 -0.12641134]\n",
      " [ 0.90333375 -0.11930524 -0.13445705 -0.21605404]\n",
      " [ 0.82580257 -0.39174786  0.04775081 -0.12149008]\n",
      " [ 1.2938108  -1.1285877   0.05134742  0.32046229]\n",
      " [ 1.02526869  0.05199711 -0.17510777  0.31765262]\n",
      " [ 0.51039797  0.12552743  0.17754353 -0.19016359]\n",
      " [ 0.90670565 -0.64784045  0.39748652  0.07741092]\n",
      " [ 0.74114236  0.44497758  0.21081564  0.08374354]\n",
      " [-0.41004248 -1.64887931 -1.28141011 -0.0750184 ]\n",
      " [ 0.46673318  0.4779625   0.42107491 -0.04982638]\n",
      " [ 0.60435445 -0.88991853  0.86721846  0.07460879]\n",
      " [ 0.38334175  0.18499978  0.63373833  0.05360003]\n",
      " [ 0.19051476  0.77786034  0.54739104 -0.0008066 ]\n",
      " [-0.42850258  0.57337555 -0.6768643   0.11735856]\n",
      " [-0.40456565 -0.80252887 -0.17998729 -0.09029314]\n",
      " [-0.2827111  -0.97929904 -0.23845167  0.0985447 ]\n",
      " [ 0.52035519  0.13853399  1.0771207   0.12687194]\n",
      " [-0.30424344 -2.33158974  0.13868001 -0.03946001]\n",
      " [-0.54878438 -1.34471396 -0.1995548   0.01925597]\n",
      " [-0.87940008 -0.10101424 -0.63050749  0.01365357]\n",
      " [-0.74285414 -1.37810812 -0.2557124   0.00951478]\n",
      " [-1.01998287 -0.68259159 -0.78255221  0.05754368]\n",
      " [-0.54718013  0.64970389  0.14367904  0.00990736]\n",
      " [-0.39278472 -1.22436703  0.73465076 -0.17968989]\n",
      " [-0.81037123  1.25210823 -0.00752774 -0.11603174]\n",
      " [-0.91881784 -0.18414981  0.5807056  -0.3194183 ]\n",
      " [-1.14918914  2.38830653 -0.31768658  0.00014827]\n",
      " [-1.5634366   1.87567694  0.03745813 -0.2267605 ]\n",
      " [-1.2810246   1.24944136 -0.02079339  0.04115196]\n",
      " [-1.27087651  0.03336314  0.42496584 -0.09348925]\n",
      " [-1.5043031   1.17240935  0.04964307 -0.06952612]\n",
      " [-1.66375045  0.73992399  0.14923359 -0.03652634]\n",
      " [-2.11391491 -0.60817727 -0.19678348 -0.18493124]\n",
      " [-1.9800896  -1.57296632  0.00885061 -0.02764822]\n",
      " [-2.53732112 -0.57090761 -0.27837591 -0.32626876]\n",
      " [-1.53837637  0.46306175  1.7198034   0.02971846]\n",
      " [-2.83264623 -0.96475616  0.03453256  0.04778117]\n",
      " [-3.37305584  1.90149248 -0.7283505   0.25656609]\n",
      " [-3.15265413 -0.22221413  0.40719213  0.57399736]]\n"
     ]
    }
   ],
   "source": [
    "Z_pca = pca.transform(Z)\n",
    "print(Z_pca)"
   ]
  },
  {
   "cell_type": "code",
   "execution_count": 148,
   "id": "anticipated-second",
   "metadata": {},
   "outputs": [
    {
     "data": {
      "image/png": "[encoded data removed]",
      "text/plain": [
       "<Figure size 432x288 with 1 Axes>"
      ]
     },
     "metadata": {
      "needs_background": "light"
     },
     "output_type": "display_data"
    }
   ],
   "source": [
    "import matplotlib.pyplot as plt\n",
    "plt.scatter(X_pca[:, 0], X_pca[:, 1])\n",
    "for label, x, y in zip(labels, X_pca[:, 0], X_pca[:, 1]):\n",
    "    plt.annotate(label, xy=(x, y), xytext=(-0.2, 0.2), textcoords='offset points')\n",
    "plt.show()"
   ]
  },
  {
   "cell_type": "markdown",
   "id": "young-lawrence",
   "metadata": {},
   "source": [
    "## II. Clustering"
   ]
  },
  {
   "cell_type": "code",
   "execution_count": 149,
   "id": "fifth-tunnel",
   "metadata": {},
   "outputs": [],
   "source": [
    "data = pd.read_csv(\"villes.csv\", sep=';')\n",
    "X = data.iloc[:, 1:13].values\n",
    "labels = data.iloc[:, 0].values"
   ]
  },
  {
   "cell_type": "markdown",
   "id": "regular-satin",
   "metadata": {},
   "source": [
    "#### Question 1"
   ]
  },
  {
   "cell_type": "code",
   "execution_count": 150,
   "id": "stunning-sewing",
   "metadata": {},
   "outputs": [],
   "source": [
    "from sklearn.cluster import KMeans\n",
    "sc=StandardScaler()\n",
    "X=sc.fit_transform(X)\n",
    "\n",
    "kmeans = KMeans(n_clusters=3).fit(X)\n",
    "clustering = kmeans.labels_"
   ]
  },
  {
   "cell_type": "code",
   "execution_count": 151,
   "id": "restricted-thirty",
   "metadata": {},
   "outputs": [
    {
     "data": {
      "image/png": "[encoded data removed]",
      "text/plain": [
       "<Figure size 432x288 with 1 Axes>"
      ]
     },
     "metadata": {
      "needs_background": "light"
     },
     "output_type": "display_data"
    }
   ],
   "source": [
    "colors = ['red','yellow','blue','pink']\n",
    "plt.scatter(X_pca[:, 0], X_pca[:, 1], c= clustering, cmap=matplotlib.colors.ListedColormap(colors))\n",
    "for label, x, y in zip(labels, X_pca[:, 0], X_pca[:, 1]):\n",
    "    plt.annotate(label, xy=(x, y), xytext=(-0.2, 0.2), textcoords='offset points')\n",
    "plt.show()"
   ]
  },
  {
   "cell_type": "markdown",
   "id": "acting-aluminum",
   "metadata": {},
   "source": [
    "#### Question 2"
   ]
  },
  {
   "cell_type": "code",
   "execution_count": 152,
   "id": "sonic-eclipse",
   "metadata": {},
   "outputs": [
    {
     "data": {
      "image/png": "[encoded data removed]",
      "text/plain": [
       "<Figure size 432x288 with 1 Axes>"
      ]
     },
     "metadata": {
      "needs_background": "light"
     },
     "output_type": "display_data"
    }
   ],
   "source": [
    "from sklearn.cluster import AgglomerativeClustering\n",
    "\n",
    "kmeans = AgglomerativeClustering(n_clusters=3, linkage = 'ward').fit(X)\n",
    "clustering = kmeans.labels_\n",
    "colors = ['red','yellow','blue','pink']\n",
    "plt.scatter(X_pca[:, 0], X_pca[:, 1], c= clustering, cmap=matplotlib.colors.ListedColormap(colors))\n",
    "for label, x, y in zip(labels, X_pca[:, 0], X_pca[:, 1]):\n",
    "    plt.annotate(label, xy=(x, y), xytext=(-0.2, 0.2), textcoords='offset points')\n",
    "plt.show()"
   ]
  },
  {
   "cell_type": "code",
   "execution_count": 153,
   "id": "conscious-livestock",
   "metadata": {},
   "outputs": [
    {
     "data": {
      "image/png": "[encoded data removed]",
      "text/plain": [
       "<Figure size 432x288 with 1 Axes>"
      ]
     },
     "metadata": {
      "needs_background": "light"
     },
     "output_type": "display_data"
    }
   ],
   "source": [
    "kmeans = AgglomerativeClustering(n_clusters=3, linkage = 'average').fit(X)\n",
    "clustering = kmeans.labels_\n",
    "colors = ['red','yellow','blue','pink']\n",
    "plt.scatter(X_pca[:, 0], X_pca[:, 1], c= clustering, cmap=matplotlib.colors.ListedColormap(colors))\n",
    "for label, x, y in zip(labels, X_pca[:, 0], X_pca[:, 1]):\n",
    "    plt.annotate(label, xy=(x, y), xytext=(-0.2, 0.2), textcoords='offset points')\n",
    "plt.show()"
   ]
  },
  {
   "cell_type": "markdown",
   "id": "cheap-welsh",
   "metadata": {},
   "source": [
    "#### Question 3"
   ]
  },
  {
   "cell_type": "code",
   "execution_count": 154,
   "id": "brave-vulnerability",
   "metadata": {},
   "outputs": [
    {
     "name": "stdout",
     "output_type": "stream",
     "text": [
      "0.625557719180767\n",
      "\n",
      "0.38809425947195875\n",
      "\n",
      "0.36151471170277005\n",
      "\n",
      "0.320426835006724\n",
      "\n"
     ]
    }
   ],
   "source": [
    "from sklearn import metrics\n",
    "for i in np.arange(2, 6):\n",
    " clustering = KMeans(n_clusters=i).fit_predict(X)\n",
    " print(metrics.silhouette_score(X, clustering,metric='euclidean'))\n",
    " print()"
   ]
  },
  {
   "cell_type": "markdown",
   "id": "sporting-bottom",
   "metadata": {},
   "source": [
    "Le clustering avec deux classes obtient le meilleur score : c'est donc celui à privilégier"
   ]
  },
  {
   "cell_type": "code",
   "execution_count": null,
   "id": "catholic-massachusetts",
   "metadata": {},
   "outputs": [],
   "source": []
  }
 ],
 "metadata": {
  "kernelspec": {
   "display_name": "Python 3",
   "language": "python",
   "name": "python3"
  },
  "language_info": {
   "codemirror_mode": {
    "name": "ipython",
    "version": 3
   },
   "file_extension": ".py",
   "mimetype": "text/x-python",
   "name": "python",
   "nbconvert_exporter": "python",
   "pygments_lexer": "ipython3",
   "version": "3.8.7"
  }
 },
 "nbformat": 4,
 "nbformat_minor": 5
}
