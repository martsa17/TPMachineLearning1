{
 "cells": [
  {
   "cell_type": "code",
   "execution_count": 122,
   "id": "antique-ghost",
   "metadata": {},
   "outputs": [],
   "source": [
    "import numpy as np\n",
    "np.set_printoptions(threshold=10000,suppress=True)\n",
    "import pandas as pd\n",
    "import warnings\n",
    "import matplotlib.pyplot as plt\n",
    "warnings.filterwarnings('ignore')\n",
    "from sklearn.model_selection import train_test_split\n",
    "from sklearn.datasets import load_iris\n",
    "from sklearn.tree import DecisionTreeClassifier, plot_tree\n",
    "import matplotlib.pyplot as plt\n",
    "from sklearn.neighbors import KNeighborsClassifier\n",
    "from sklearn.neural_network import MLPClassifier\n",
    "from sklearn.metrics import confusion_matrix\n",
    "from sklearn.metrics import precision_score, accuracy_score\n",
    "from sklearn.preprocessing import StandardScaler\n",
    "from sklearn import datasets\n",
    "from sklearn import decomposition\n",
    "from sklearn.model_selection import GridSearchCV, KFold\n",
    "from sklearn.pipeline import Pipeline\n",
    "import pickle\n",
    "from sklearn.naive_bayes import GaussianNB\n",
    "from sklearn.ensemble import BaggingClassifier\n",
    "from sklearn.ensemble import AdaBoostClassifier\n",
    "from sklearn.model_selection import cross_val_score, cross_validate"
   ]
  },
  {
   "cell_type": "markdown",
   "id": "invalid-citation",
   "metadata": {},
   "source": [
    "# I. Apprentissage supervisé : Feature engineering et Classification"
   ]
  },
  {
   "cell_type": "markdown",
   "id": "usual-completion",
   "metadata": {},
   "source": [
    "## Question 1"
   ]
  },
  {
   "cell_type": "code",
   "execution_count": 30,
   "id": "former-hardware",
   "metadata": {},
   "outputs": [],
   "source": [
    "fichier_DF = pd.read_csv(\"credit_scoring.csv\", sep=\";\")\n",
    "fichier = fichier_DF.to_numpy(dtype=float)\n",
    "nom_cols = fichier_DF.columns"
   ]
  },
  {
   "cell_type": "code",
   "execution_count": 31,
   "id": "upper-hometown",
   "metadata": {},
   "outputs": [
    {
     "data": {
      "text/plain": [
       "(4375, 14)"
      ]
     },
     "execution_count": 31,
     "metadata": {},
     "output_type": "execute_result"
    }
   ],
   "source": [
    "fichier.shape"
   ]
  },
  {
   "cell_type": "code",
   "execution_count": 32,
   "id": "satellite-flush",
   "metadata": {},
   "outputs": [],
   "source": [
    "X = fichier[:,0:13]\n",
    "Y = fichier[:,13]"
   ]
  },
  {
   "cell_type": "code",
   "execution_count": 33,
   "id": "flying-exhaust",
   "metadata": {},
   "outputs": [
    {
     "name": "stdout",
     "output_type": "stream",
     "text": [
      "(4375, 13) \n",
      " (4375,)\n"
     ]
    }
   ],
   "source": [
    "print(X.shape, \"\\n\", Y.shape)"
   ]
  },
  {
   "cell_type": "code",
   "execution_count": 34,
   "id": "quantitative-morris",
   "metadata": {},
   "outputs": [
    {
     "data": {
      "text/plain": [
       "(array([1216.,    0.,    0.,    0.,    0.,    0.,    0.,    0.,    0.,\n",
       "        3159.]),\n",
       " array([0. , 0.1, 0.2, 0.3, 0.4, 0.5, 0.6, 0.7, 0.8, 0.9, 1. ]),\n",
       " <BarContainer object of 10 artists>)"
      ]
     },
     "execution_count": 34,
     "metadata": {},
     "output_type": "execute_result"
    },
    {
     "data": {
      "image/png": "[encoded data removed]",
      "text/plain": [
       "<Figure size 432x288 with 1 Axes>"
      ]
     },
     "metadata": {
      "needs_background": "light"
     },
     "output_type": "display_data"
    }
   ],
   "source": [
    "plt.hist(Y)"
   ]
  },
  {
   "cell_type": "code",
   "execution_count": 35,
   "id": "sixth-rapid",
   "metadata": {},
   "outputs": [],
   "source": [
    "X_train, X_test, y_train, y_test = train_test_split(X, Y, test_size=0.5, random_state=1)"
   ]
  },
  {
   "cell_type": "markdown",
   "id": "nervous-birthday",
   "metadata": {},
   "source": [
    "## Question 2"
   ]
  },
  {
   "cell_type": "markdown",
   "id": "social-skating",
   "metadata": {},
   "source": [
    "Arbre CART"
   ]
  },
  {
   "cell_type": "code",
   "execution_count": 36,
   "id": "chemical-disaster",
   "metadata": {},
   "outputs": [],
   "source": [
    "classifier_CART = DecisionTreeClassifier(random_state=1)\n",
    "classifier_CART.fit(X_train, y_train)\n",
    "predict_CART = classifier_CART.predict(X_test)\n",
    "m1 = confusion_matrix(y_test, predict_CART)\n",
    "acc1 = (m1[0][0] + m1[1][1]) / len(y_test)\n",
    "pre1 = m1[1][1] / (m1[1][1] + m1[0][1])"
   ]
  },
  {
   "cell_type": "markdown",
   "id": "partial-folder",
   "metadata": {},
   "source": [
    "KNN"
   ]
  },
  {
   "cell_type": "code",
   "execution_count": 37,
   "id": "composite-principle",
   "metadata": {},
   "outputs": [],
   "source": [
    "classifier_KNN = KNeighborsClassifier(n_neighbors=5)\n",
    "classifier_KNN.fit(X_train, y_train)\n",
    "predict_KNN = classifier_KNN.predict(X_test)\n",
    "m2 = confusion_matrix(y_test, predict_KNN)\n",
    "acc2 = (m2[0][0] + m2[1][1]) / len(y_test)\n",
    "pre2 = m2[1][1] / (m2[1][1] + m2[0][1])"
   ]
  },
  {
   "cell_type": "markdown",
   "id": "opponent-spelling",
   "metadata": {},
   "source": [
    "Multilayer Perceptron"
   ]
  },
  {
   "cell_type": "code",
   "execution_count": 38,
   "id": "committed-stereo",
   "metadata": {},
   "outputs": [],
   "source": [
    "classifier_MP = MLPClassifier(hidden_layer_sizes=(40, 20), random_state=1)\n",
    "classifier_MP.fit(X_train, y_train)\n",
    "predict_MP = classifier_MP.predict(X_test)\n",
    "m3 = confusion_matrix(y_test, predict_MP)\n",
    "acc3 = (m3[0][0] + m3[1][1]) / len(y_test)\n",
    "pre3 = m3[1][1] / (m3[1][1] + m3[0][1])"
   ]
  },
  {
   "cell_type": "code",
   "execution_count": 39,
   "id": "driving-aging",
   "metadata": {},
   "outputs": [
    {
     "name": "stdout",
     "output_type": "stream",
     "text": [
      "CART \n",
      " Accuracy :  0.7271480804387569   Precision :  0.8194174757281554\n",
      "KNN \n",
      " Accuracy :  0.7248628884826326   Precision :  0.7709713024282561\n",
      "MP \n",
      " Accuracy :  0.7394881170018281   Precision :  0.7540080160320641\n"
     ]
    }
   ],
   "source": [
    "print(\"CART \\n\", \"Accuracy : \", acc1, \"  Precision : \", pre1)\n",
    "print(\"KNN \\n\", \"Accuracy : \", acc2, \"  Precision : \", pre2)\n",
    "print(\"MP \\n\", \"Accuracy : \", acc3, \"  Precision : \", pre3)"
   ]
  },
  {
   "cell_type": "markdown",
   "id": "tested-aluminum",
   "metadata": {},
   "source": [
    "On choisit d'étudier la précision et pas le rappel, car on veut être sûr que la personne à qui l'on accorde un crédit va nous rembourser.\n",
    "Ici, les trois estimateurs donnent des accuracy assez similaires, cependant la précision diffère légèrement d'un estimateur à l'autre : celle de Cart est la meilleure, suivie de celle de KNN, et enfin celle de MP. Pour l'instant, Cart est le meilleur classifieur"
   ]
  },
  {
   "cell_type": "markdown",
   "id": "stretch-viewer",
   "metadata": {},
   "source": [
    "## Question 3"
   ]
  },
  {
   "cell_type": "code",
   "execution_count": 40,
   "id": "novel-survey",
   "metadata": {},
   "outputs": [],
   "source": [
    "scaler = StandardScaler()\n",
    "scaler.fit(X_train)\n",
    "X_train_st = scaler.transform(X_train)\n",
    "scaler.fit(X_test)\n",
    "X_test_st = scaler.transform(X_test)"
   ]
  },
  {
   "cell_type": "markdown",
   "id": "alone-ballot",
   "metadata": {},
   "source": [
    "Cart avec données standardisées"
   ]
  },
  {
   "cell_type": "code",
   "execution_count": 41,
   "id": "public-rendering",
   "metadata": {},
   "outputs": [],
   "source": [
    "classifier_CART = DecisionTreeClassifier(random_state=1)\n",
    "classifier_CART.fit(X_train_st, y_train)\n",
    "predict_CART = classifier_CART.predict(X_test_st)\n",
    "m1 = confusion_matrix(y_test, predict_CART)\n",
    "acc1 = (m1[0][0] + m1[1][1]) / len(y_test)\n",
    "pre1 = m1[1][1] / (m1[1][1] + m1[0][1])"
   ]
  },
  {
   "cell_type": "markdown",
   "id": "trained-component",
   "metadata": {},
   "source": [
    "KNN avec données standardisées"
   ]
  },
  {
   "cell_type": "code",
   "execution_count": 42,
   "id": "portuguese-rugby",
   "metadata": {},
   "outputs": [],
   "source": [
    "classifier_KNN = KNeighborsClassifier(n_neighbors=5)\n",
    "classifier_KNN.fit(X_train_st, y_train)\n",
    "predict_KNN = classifier_KNN.predict(X_test_st)\n",
    "m2 = confusion_matrix(y_test, predict_KNN)\n",
    "acc2 = (m2[0][0] + m2[1][1]) / len(y_test)\n",
    "pre2 = m2[1][1] / (m2[1][1] + m2[0][1])"
   ]
  },
  {
   "cell_type": "markdown",
   "id": "catholic-january",
   "metadata": {},
   "source": [
    "Multilayer Perception avec données standardisées"
   ]
  },
  {
   "cell_type": "code",
   "execution_count": 43,
   "id": "forced-hours",
   "metadata": {},
   "outputs": [],
   "source": [
    "classifier_MP = MLPClassifier(hidden_layer_sizes=(40, 20), random_state=1)\n",
    "classifier_MP.fit(X_train_st, y_train)\n",
    "predict_MP = classifier_MP.predict(X_test_st)\n",
    "m3 = confusion_matrix(y_test, predict_MP)\n",
    "acc3 = (m3[0][0] + m3[1][1]) / len(y_test)\n",
    "pre3 = m3[1][1] / (m3[1][1] + m3[0][1])"
   ]
  },
  {
   "cell_type": "code",
   "execution_count": 44,
   "id": "saved-irish",
   "metadata": {},
   "outputs": [
    {
     "name": "stdout",
     "output_type": "stream",
     "text": [
      "CART \n",
      " Accuracy :  0.7180073126142597   Precision :  0.8183015141540487\n",
      "KNN \n",
      " Accuracy :  0.7495429616087751   Precision :  0.8087008343265792\n",
      "MP \n",
      " Accuracy :  0.776508226691042   Precision :  0.8385899814471243\n"
     ]
    }
   ],
   "source": [
    "print(\"CART \\n\", \"Accuracy : \", acc1, \"  Precision : \", pre1)\n",
    "print(\"KNN \\n\", \"Accuracy : \", acc2, \"  Precision : \", pre2)\n",
    "print(\"MP \\n\", \"Accuracy : \", acc3, \"  Precision : \", pre3)"
   ]
  },
  {
   "cell_type": "markdown",
   "id": "earned-architecture",
   "metadata": {},
   "source": [
    "On remarque que pour les 3 estimateurs, l'accuracy et la précision ont augmenté. Avec les données standardisées, le meilleur estimateur devient MultiLayer Perception. Entre KNN et Cart, selon comment on valorise la précision par rapport à l'accuracy, on obtient que l'un ou l'autre est meilleur (Cart a une précision très légèrement supérieure à KNN, mais une accuracy lègèrement inférieure)"
   ]
  },
  {
   "cell_type": "markdown",
   "id": "afraid-audience",
   "metadata": {},
   "source": [
    "## Question 4"
   ]
  },
  {
   "cell_type": "code",
   "execution_count": 45,
   "id": "emerging-thread",
   "metadata": {},
   "outputs": [],
   "source": [
    "pca = decomposition.PCA()\n",
    "\n",
    "pca.fit(X_train_st)\n",
    "tmp = pca.transform(X_train_st)[:,0:3]\n",
    "X_train_PCA = np.concatenate((X_train_st, tmp), axis=1)\n",
    "\n",
    "pca.fit(X_test_st)\n",
    "tmp = pca.transform(X_test_st)[:,0:3]\n",
    "X_test_PCA = np.concatenate((X_test_st, tmp), axis=1)"
   ]
  },
  {
   "cell_type": "markdown",
   "id": "tropical-kinase",
   "metadata": {},
   "source": [
    "Cart avec données standardisées + ajout des 3 variables de l'ACP"
   ]
  },
  {
   "cell_type": "code",
   "execution_count": 46,
   "id": "pointed-health",
   "metadata": {},
   "outputs": [],
   "source": [
    "classifier_CART = DecisionTreeClassifier(random_state=1)\n",
    "classifier_CART.fit(X_train_PCA, y_train)\n",
    "predict_CART = classifier_CART.predict(X_test_PCA)\n",
    "m1 = confusion_matrix(y_test, predict_CART)\n",
    "acc1 = (m1[0][0] + m1[1][1]) / len(y_test)\n",
    "pre1 = m1[1][1] / (m1[1][1] + m1[0][1])"
   ]
  },
  {
   "cell_type": "markdown",
   "id": "convinced-slave",
   "metadata": {},
   "source": [
    "KNN avec données standardisées + ajout des 3 variables de l'ACP"
   ]
  },
  {
   "cell_type": "code",
   "execution_count": 47,
   "id": "broad-corner",
   "metadata": {},
   "outputs": [],
   "source": [
    "classifier_KNN = KNeighborsClassifier(n_neighbors=5)\n",
    "classifier_KNN.fit(X_train_PCA, y_train)\n",
    "predict_KNN = classifier_KNN.predict(X_test_PCA)\n",
    "m2 = confusion_matrix(y_test, predict_KNN)\n",
    "acc2 = (m2[0][0] + m2[1][1]) / len(y_test)\n",
    "pre2 = m2[1][1] / (m2[1][1] + m2[0][1])"
   ]
  },
  {
   "cell_type": "markdown",
   "id": "agricultural-board",
   "metadata": {},
   "source": [
    "Multilayer Perception avec données standardisées + ajout des 3 variables de l'ACP"
   ]
  },
  {
   "cell_type": "code",
   "execution_count": 48,
   "id": "addressed-merit",
   "metadata": {},
   "outputs": [],
   "source": [
    "classifier_MP = MLPClassifier(hidden_layer_sizes=(40, 20), random_state=1)\n",
    "classifier_MP.fit(X_train_PCA, y_train)\n",
    "predict_MP = classifier_MP.predict(X_test_PCA)\n",
    "m3 = confusion_matrix(y_test, predict_MP)\n",
    "acc3 = (m3[0][0] + m3[1][1]) / len(y_test)\n",
    "pre3 = m3[1][1] / (m3[1][1] + m3[0][1])"
   ]
  },
  {
   "cell_type": "code",
   "execution_count": 49,
   "id": "casual-strand",
   "metadata": {},
   "outputs": [
    {
     "name": "stdout",
     "output_type": "stream",
     "text": [
      "CART \n",
      " Accuracy :  0.7239488117001828   Precision :  0.8279785809906292\n",
      "KNN \n",
      " Accuracy :  0.7600548446069469   Precision :  0.8101933216168717\n",
      "MP \n",
      " Accuracy :  0.7755941499085923   Precision :  0.8278344331133773\n"
     ]
    }
   ],
   "source": [
    "print(\"CART \\n\", \"Accuracy : \", acc1, \"  Precision : \", pre1)\n",
    "print(\"KNN \\n\", \"Accuracy : \", acc2, \"  Precision : \", pre2)\n",
    "print(\"MP \\n\", \"Accuracy : \", acc3, \"  Precision : \", pre3)"
   ]
  },
  {
   "cell_type": "markdown",
   "id": "ethical-boards",
   "metadata": {},
   "source": [
    "Au niveau de l'accuracy, seule celle de KNN augmente de 3%. Au niveau de la précision, celles Cart et KNN augmentent de 1%, et celle de MP diminue de 1%"
   ]
  },
  {
   "cell_type": "markdown",
   "id": "representative-facility",
   "metadata": {},
   "source": [
    "## Question 5"
   ]
  },
  {
   "cell_type": "code",
   "execution_count": 50,
   "id": "technical-butterfly",
   "metadata": {},
   "outputs": [
    {
     "name": "stdout",
     "output_type": "stream",
     "text": [
      "Index(['Income', 'Seniority', 'Price', 'Amount', 'Age', 'Assets', 'Expenses',\n",
      "       'Records', 'Time', 'Job', 'Debt', 'Home', 'Marital'],\n",
      "      dtype='object')\n"
     ]
    },
    {
     "data": {
      "image/png": "[encoded data removed]",
      "text/plain": [
       "<Figure size 432x288 with 1 Axes>"
      ]
     },
     "metadata": {
      "needs_background": "light"
     },
     "output_type": "display_data"
    }
   ],
   "source": [
    "from sklearn.ensemble import RandomForestClassifier\n",
    "clf = RandomForestClassifier(n_estimators=100)\n",
    "clf.fit(X_train_st, y_train)\n",
    "importances=clf.feature_importances_\n",
    "std = np.std([tree.feature_importances_ for tree in clf.estimators_],axis=0)\n",
    "sorted_idx = np.argsort(importances)[::-1]\n",
    "features = nom_cols\n",
    "print(features[sorted_idx])\n",
    "padding = np.arange(X_train_st.size/len(X_train_st)) + 0.5\n",
    "plt.barh(padding, importances[sorted_idx],xerr=std[sorted_idx], align='center')\n",
    "plt.yticks(padding, features[sorted_idx])\n",
    "plt.xlabel(\"Relative Importance\")\n",
    "plt.title(\"Variable Importance\")\n",
    "plt.show()"
   ]
  },
  {
   "cell_type": "code",
   "execution_count": 51,
   "id": "circular-handy",
   "metadata": {},
   "outputs": [
    {
     "data": {
      "image/png": "[encoded data removed]",
      "text/plain": [
       "<Figure size 432x288 with 1 Axes>"
      ]
     },
     "metadata": {
      "needs_background": "light"
     },
     "output_type": "display_data"
    }
   ],
   "source": [
    "KNN=KNeighborsClassifier(n_neighbors=5)\n",
    "scores=np.zeros(X_train_st.shape[1]+1)\n",
    "for f in np.arange(0, X_train_st.shape[1]+1):\n",
    "    X1_f = X_train_st[:,sorted_idx[:f+1]]\n",
    "    X2_f = X_test_st[:,sorted_idx[:f+1]]\n",
    "    KNN.fit(X1_f,y_train)\n",
    "    YKNN=KNN.predict(X2_f)\n",
    "    scores[f]=np.round(accuracy_score(y_test,YKNN),3)\n",
    "plt.plot(scores)\n",
    "plt.xlabel(\"Nombre de Variables\")\n",
    "plt.ylabel(\"Accuracy\")\n",
    "plt.title(\"Evolution de l'accuracy en fonction des variables\")\n",
    "plt.show()"
   ]
  },
  {
   "cell_type": "markdown",
   "id": "requested-luxury",
   "metadata": {},
   "source": [
    "La meilleure accuracy est obtenue pour 8 variables. Cependant, la différence d'accuracy est 7 et 8 variables est relativement faible, donc on va choisir de garder seulement 7 variables et non 8, afin que nos algorithmes tournent plus vite. On va garder les 7 variables qui ont la meilleure importance relative obtenue sur le graphe ci-dessus."
   ]
  },
  {
   "cell_type": "code",
   "execution_count": 52,
   "id": "supposed-paintball",
   "metadata": {},
   "outputs": [],
   "source": [
    "X_train_s = X_train_st[:,0:7]\n",
    "X_test_s = X_test_st[:,0:7]"
   ]
  },
  {
   "cell_type": "markdown",
   "id": "minus-valuable",
   "metadata": {},
   "source": [
    "# Question 6"
   ]
  },
  {
   "cell_type": "markdown",
   "id": "passing-horse",
   "metadata": {},
   "source": [
    "Sélection paramètres Cart"
   ]
  },
  {
   "cell_type": "code",
   "execution_count": 65,
   "id": "executive-cruise",
   "metadata": {},
   "outputs": [
    {
     "data": {
      "text/plain": [
       "{'cv': None,\n",
       " 'error_score': nan,\n",
       " 'estimator__ccp_alpha': 0.0,\n",
       " 'estimator__class_weight': None,\n",
       " 'estimator__criterion': 'gini',\n",
       " 'estimator__max_depth': None,\n",
       " 'estimator__max_features': None,\n",
       " 'estimator__max_leaf_nodes': None,\n",
       " 'estimator__min_impurity_decrease': 0.0,\n",
       " 'estimator__min_impurity_split': None,\n",
       " 'estimator__min_samples_leaf': 1,\n",
       " 'estimator__min_samples_split': 2,\n",
       " 'estimator__min_weight_fraction_leaf': 0.0,\n",
       " 'estimator__random_state': 1,\n",
       " 'estimator__splitter': 'best',\n",
       " 'estimator': DecisionTreeClassifier(random_state=1),\n",
       " 'n_jobs': None,\n",
       " 'param_grid': {'criterion': ('gini', 'entropy'),\n",
       "  'splitter': ('best', 'random')},\n",
       " 'pre_dispatch': '2*n_jobs',\n",
       " 'refit': True,\n",
       " 'return_train_score': False,\n",
       " 'scoring': None,\n",
       " 'verbose': 0}"
      ]
     },
     "execution_count": 65,
     "metadata": {},
     "output_type": "execute_result"
    }
   ],
   "source": [
    "parameters_cart = {'criterion':(\"gini\", \"entropy\"), 'splitter':(\"best\", \"random\")}\n",
    "classifier_CART = GridSearchCV(DecisionTreeClassifier(random_state=1), parameters_cart)\n",
    "classifier_CART.fit(X_train_s, y_train)\n",
    "classifier_CART.get_params()\n",
    "# argument max_depth à optimiser ? Car plus c'est profond, plus c'est efficace ?\n",
    "# 'max_depth' : [1, 2, 3, 4, 5, 6, 7, 8]}"
   ]
  },
  {
   "cell_type": "markdown",
   "id": "creative-encounter",
   "metadata": {},
   "source": [
    "Sélection paramètres KNN"
   ]
  },
  {
   "cell_type": "code",
   "execution_count": 66,
   "id": "pretty-medicare",
   "metadata": {},
   "outputs": [
    {
     "data": {
      "text/plain": [
       "{'cv': None,\n",
       " 'error_score': nan,\n",
       " 'estimator__algorithm': 'auto',\n",
       " 'estimator__leaf_size': 30,\n",
       " 'estimator__metric': 'minkowski',\n",
       " 'estimator__metric_params': None,\n",
       " 'estimator__n_jobs': None,\n",
       " 'estimator__n_neighbors': 5,\n",
       " 'estimator__p': 2,\n",
       " 'estimator__weights': 'uniform',\n",
       " 'estimator': KNeighborsClassifier(),\n",
       " 'n_jobs': None,\n",
       " 'param_grid': {'n_neighbors': [1, 2, 3, 4, 5, 6, 7, 8, 9]},\n",
       " 'pre_dispatch': '2*n_jobs',\n",
       " 'refit': True,\n",
       " 'return_train_score': False,\n",
       " 'scoring': None,\n",
       " 'verbose': 0}"
      ]
     },
     "execution_count": 66,
     "metadata": {},
     "output_type": "execute_result"
    }
   ],
   "source": [
    "parameters_knn = {'n_neighbors':[1, 2, 3, 4, 5, 6, 7, 8, 9]}\n",
    "classifier_CART = GridSearchCV(KNeighborsClassifier(), parameters_knn)\n",
    "classifier_CART.fit(X_train_s, y_train)\n",
    "classifier_CART.get_params()"
   ]
  },
  {
   "cell_type": "markdown",
   "id": "authorized-darkness",
   "metadata": {},
   "source": [
    "Sélection paramètres MP"
   ]
  },
  {
   "cell_type": "code",
   "execution_count": 67,
   "id": "communist-celebrity",
   "metadata": {},
   "outputs": [
    {
     "data": {
      "text/plain": [
       "{'cv': None,\n",
       " 'error_score': nan,\n",
       " 'estimator__activation': 'relu',\n",
       " 'estimator__alpha': 0.0001,\n",
       " 'estimator__batch_size': 'auto',\n",
       " 'estimator__beta_1': 0.9,\n",
       " 'estimator__beta_2': 0.999,\n",
       " 'estimator__early_stopping': False,\n",
       " 'estimator__epsilon': 1e-08,\n",
       " 'estimator__hidden_layer_sizes': (100,),\n",
       " 'estimator__learning_rate': 'constant',\n",
       " 'estimator__learning_rate_init': 0.001,\n",
       " 'estimator__max_fun': 15000,\n",
       " 'estimator__max_iter': 200,\n",
       " 'estimator__momentum': 0.9,\n",
       " 'estimator__n_iter_no_change': 10,\n",
       " 'estimator__nesterovs_momentum': True,\n",
       " 'estimator__power_t': 0.5,\n",
       " 'estimator__random_state': None,\n",
       " 'estimator__shuffle': True,\n",
       " 'estimator__solver': 'adam',\n",
       " 'estimator__tol': 0.0001,\n",
       " 'estimator__validation_fraction': 0.1,\n",
       " 'estimator__verbose': False,\n",
       " 'estimator__warm_start': False,\n",
       " 'estimator': MLPClassifier(),\n",
       " 'n_jobs': None,\n",
       " 'param_grid': {'hidden_layer_sizes': [(40, 20), (30, 15), (60, 30)],\n",
       "  'activation': ('identity', 'logistic', 'tanh', 'relu')},\n",
       " 'pre_dispatch': '2*n_jobs',\n",
       " 'refit': True,\n",
       " 'return_train_score': False,\n",
       " 'scoring': None,\n",
       " 'verbose': 0}"
      ]
     },
     "execution_count": 67,
     "metadata": {},
     "output_type": "execute_result"
    }
   ],
   "source": [
    "parameters_mp = {'hidden_layer_sizes':[(40, 20), (30, 15), (60,30)], 'activation':('identity', 'logistic', 'tanh', 'relu')}\n",
    "classifier_MP = GridSearchCV(MLPClassifier(), parameters_mp)\n",
    "classifier_MP.fit(X_train_s, y_train)\n",
    "classifier_MP.get_params()"
   ]
  },
  {
   "cell_type": "markdown",
   "id": "interim-insight",
   "metadata": {},
   "source": [
    "## Question 7"
   ]
  },
  {
   "cell_type": "markdown",
   "id": "basic-columbia",
   "metadata": {},
   "source": [
    "Création d'une pipeline pour l'estimateur CART"
   ]
  },
  {
   "cell_type": "code",
   "execution_count": 84,
   "id": "outside-relief",
   "metadata": {},
   "outputs": [
    {
     "data": {
      "text/plain": [
       "0.7125228519195612"
      ]
     },
     "execution_count": 84,
     "metadata": {},
     "output_type": "execute_result"
    }
   ],
   "source": [
    "pipe = Pipeline([('scaler', StandardScaler()), ('ACP', decomposition.PCA()), ('estimateur',DecisionTreeClassifier(random_state=100))])\n",
    "pipe.fit(X_train, y_train)\n",
    "pipe.score(X_test, y_test)"
   ]
  },
  {
   "cell_type": "markdown",
   "id": "greater-charm",
   "metadata": {},
   "source": [
    "Enregistrement dans un pickle du pipeline"
   ]
  },
  {
   "cell_type": "code",
   "execution_count": 85,
   "id": "written-outside",
   "metadata": {},
   "outputs": [],
   "source": [
    "with open('pickle_question_7', 'wb') as f1:\n",
    "    pickle.dump(pipe, f1)"
   ]
  },
  {
   "cell_type": "markdown",
   "id": "musical-shore",
   "metadata": {},
   "source": [
    "## Question 8"
   ]
  },
  {
   "cell_type": "markdown",
   "id": "massive-lesson",
   "metadata": {},
   "source": [
    "Classifieur NaiveBayesSimple (Gaussien)"
   ]
  },
  {
   "cell_type": "code",
   "execution_count": 70,
   "id": "historical-oracle",
   "metadata": {},
   "outputs": [
    {
     "data": {
      "text/plain": [
       "0.7637111517367459"
      ]
     },
     "execution_count": 70,
     "metadata": {},
     "output_type": "execute_result"
    }
   ],
   "source": [
    "classifier_naive_bayes = GaussianNB()\n",
    "classifier_naive_bayes.fit(X_train_s, y_train)\n",
    "classifier_naive_bayes.score(X_test_s, y_test)"
   ]
  },
  {
   "cell_type": "markdown",
   "id": "second-morgan",
   "metadata": {},
   "source": [
    "Classifieur Cart (avec paramètres optimaux obtenus à la question 6)"
   ]
  },
  {
   "cell_type": "code",
   "execution_count": 76,
   "id": "anonymous-poultry",
   "metadata": {},
   "outputs": [
    {
     "data": {
      "text/plain": [
       "0.7646252285191956"
      ]
     },
     "execution_count": 76,
     "metadata": {},
     "output_type": "execute_result"
    }
   ],
   "source": [
    "classifier_cart = DecisionTreeClassifier(random_state=1, criterion=\"gini\", splitter=\"best\", max_depth=5)\n",
    "classifier_cart.fit(X_train_s, y_train)\n",
    "classifier_cart.score(X_test_s, y_test)"
   ]
  },
  {
   "cell_type": "markdown",
   "id": "interstate-present",
   "metadata": {},
   "source": [
    "Classifieur Decision Stump"
   ]
  },
  {
   "cell_type": "code",
   "execution_count": 74,
   "id": "photographic-constitution",
   "metadata": {},
   "outputs": [
    {
     "data": {
      "text/plain": [
       "0.7239488117001828"
      ]
     },
     "execution_count": 74,
     "metadata": {},
     "output_type": "execute_result"
    }
   ],
   "source": [
    "classifier_stump = DecisionTreeClassifier(random_state=1, max_depth=1)\n",
    "classifier_stump.fit(X_train_s, y_train)\n",
    "classifier_stump.score(X_test_s, y_test)"
   ]
  },
  {
   "cell_type": "markdown",
   "id": "unique-thought",
   "metadata": {},
   "source": [
    "Classifieur MLP"
   ]
  },
  {
   "cell_type": "code",
   "execution_count": 78,
   "id": "incorporate-hollywood",
   "metadata": {},
   "outputs": [
    {
     "data": {
      "text/plain": [
       "0.7755941499085923"
      ]
     },
     "execution_count": 78,
     "metadata": {},
     "output_type": "execute_result"
    }
   ],
   "source": [
    "classifier_MP = MLPClassifier(hidden_layer_sizes=(20, 10), random_state=1)\n",
    "classifier_MP.fit(X_train_s, y_train)\n",
    "classifier_MP.score(X_test_s, y_test)"
   ]
  },
  {
   "cell_type": "markdown",
   "id": "simplified-decline",
   "metadata": {},
   "source": [
    "Classifieur KNN"
   ]
  },
  {
   "cell_type": "code",
   "execution_count": 82,
   "id": "dangerous-segment",
   "metadata": {},
   "outputs": [
    {
     "data": {
      "text/plain": [
       "0.7399451553930531"
      ]
     },
     "execution_count": 82,
     "metadata": {},
     "output_type": "execute_result"
    }
   ],
   "source": [
    "classifier_KNN = KNeighborsClassifier(n_neighbors=5)\n",
    "classifier_KNN.fit(X_train_s, y_train)\n",
    "classifier_KNN.score(X_test_s, y_test)"
   ]
  },
  {
   "cell_type": "markdown",
   "id": "negative-gauge",
   "metadata": {},
   "source": [
    "Classifieur Bagging (avec le classifieur Cart)"
   ]
  },
  {
   "cell_type": "code",
   "execution_count": 93,
   "id": "involved-easter",
   "metadata": {},
   "outputs": [
    {
     "data": {
      "text/plain": [
       "0.7344606946983546"
      ]
     },
     "execution_count": 93,
     "metadata": {},
     "output_type": "execute_result"
    }
   ],
   "source": [
    "pipe = Pipeline([('scaler', StandardScaler()),('estimateur', DecisionTreeClassifier(random_state=1))])\n",
    "bgclassifier = BaggingClassifier(base_estimator=pipe, n_estimators=50)\n",
    "bgclassifier.fit(X_train[:,0:7], y_train)\n",
    "bgclassifier.score(X_test[:,0:7], y_test)"
   ]
  },
  {
   "cell_type": "markdown",
   "id": "meaning-cherry",
   "metadata": {},
   "source": [
    "Classifieur AdaBoost (avec le classifieur par défaut : DecisionTree )"
   ]
  },
  {
   "cell_type": "code",
   "execution_count": 116,
   "id": "built-values",
   "metadata": {},
   "outputs": [
    {
     "data": {
      "text/plain": [
       "0.7861060329067642"
      ]
     },
     "execution_count": 116,
     "metadata": {},
     "output_type": "execute_result"
    }
   ],
   "source": [
    "adaclassifier = AdaBoostClassifier(n_estimators=50, learning_rate=1)\n",
    "adaclassifier.fit(X_train_st, y_train)\n",
    "adaclassifier.score(X_test_st, y_test)"
   ]
  },
  {
   "cell_type": "markdown",
   "id": "moving-pakistan",
   "metadata": {},
   "source": [
    "Classifieur RandomForest"
   ]
  },
  {
   "cell_type": "code",
   "execution_count": 118,
   "id": "three-spiritual",
   "metadata": {},
   "outputs": [
    {
     "data": {
      "text/plain": [
       "0.7810786106032906"
      ]
     },
     "execution_count": 118,
     "metadata": {},
     "output_type": "execute_result"
    }
   ],
   "source": [
    "RFclassifier = RandomForestClassifier(n_estimators=50)\n",
    "RFclassifier.fit(X_train_st, y_train)\n",
    "RFclassifier.score(X_test_st, y_test)"
   ]
  },
  {
   "cell_type": "code",
   "execution_count": null,
   "id": "accepted-infrared",
   "metadata": {},
   "outputs": [],
   "source": []
  },
  {
   "cell_type": "code",
   "execution_count": 120,
   "id": "individual-stations",
   "metadata": {},
   "outputs": [
    {
     "name": "stdout",
     "output_type": "stream",
     "text": [
      "{'fit_time': array([0.19847894, 0.19195986, 0.19608951, 0.19322658, 0.19068193,\n",
      "       0.19015813, 0.19226861, 0.18877649, 0.19356632, 0.1890986 ]), 'score_time': array([0.01182151, 0.01221514, 0.01120925, 0.0117209 , 0.01171303,\n",
      "       0.01161075, 0.01220155, 0.01160049, 0.01187539, 0.01147079]), 'test_score': array([0.7716895 , 0.7716895 , 0.78538813, 0.76255708, 0.75799087,\n",
      "       0.79452055, 0.77625571, 0.78995434, 0.81651376, 0.73853211])}\n"
     ]
    }
   ],
   "source": [
    "print(cross_validate(RandomForestClassifier(n_estimators=50), X_test_st, y_test, cv=10))"
   ]
  },
  {
   "cell_type": "code",
   "execution_count": 123,
   "id": "thrown-enclosure",
   "metadata": {},
   "outputs": [
    {
     "name": "stdout",
     "output_type": "stream",
     "text": [
      "Accuracy for RF is: 0.782 +/- 0.015\n",
      "Accuracy for Ada is: 0.788 +/- 0.016\n",
      "Accuracy for KNN is: 0.763 +/- 0.018\n",
      "Accuracy for Bag is: 0.776 +/- 0.014\n",
      "Accuracy for MLP is: 0.788 +/- 0.019\n",
      "Accuracy for Stump is: 0.722 +/- 0.018\n",
      "Accuracy for Cart is: 0.774 +/- 0.012\n",
      "Accuracy for NBS is: 0.768 +/- 0.019\n"
     ]
    }
   ],
   "source": [
    "def compare_algo(clfs, X, Y):\n",
    "    kf = KFold(n_splits=10, shuffle=True, random_state=0)\n",
    "    for i in clfs:\n",
    "        clf = clfs[i] \n",
    "        cv_acc = cross_val_score(clf, X, Y, cv=kf) \n",
    "        print(\"Accuracy for {0} is: {1:.3f} +/- {2:.3f}\".format(i, np.mean(cv_acc), np.std(cv_acc)))\n",
    "\n",
    "clfs = { 'RF':RandomForestClassifier(n_estimators=50, random_state=1), 'Ada':AdaBoostClassifier(n_estimators=50, learning_rate=1), 'KNN':KNeighborsClassifier(n_neighbors=5), 'Bag':BaggingClassifier(base_estimator=pipe, n_estimators=50), 'MLP':MLPClassifier(hidden_layer_sizes=(20, 10), random_state=1), 'Stump':DecisionTreeClassifier(random_state=1, max_depth=1), 'Cart':DecisionTreeClassifier(random_state=1, criterion=\"gini\", splitter=\"best\", max_depth=5), 'NBS':GaussianNB() }\n",
    "compare_algo(clfs, scaler.transform(X), Y)"
   ]
  },
  {
   "cell_type": "code",
   "execution_count": null,
   "id": "polished-consistency",
   "metadata": {},
   "outputs": [],
   "source": []
  }
 ],
 "metadata": {
  "kernelspec": {
   "display_name": "Python 3",
   "language": "python",
   "name": "python3"
  },
  "language_info": {
   "codemirror_mode": {
    "name": "ipython",
    "version": 3
   },
   "file_extension": ".py",
   "mimetype": "text/x-python",
   "name": "python",
   "nbconvert_exporter": "python",
   "pygments_lexer": "ipython3",
   "version": "3.8.7"
  }
 },
 "nbformat": 4,
 "nbformat_minor": 5
}
