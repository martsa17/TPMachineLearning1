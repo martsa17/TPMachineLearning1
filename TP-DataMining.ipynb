{
 "cells": [
  {
   "cell_type": "markdown",
   "id": "informed-grade",
   "metadata": {},
   "source": [
    "# Échantillonnage direct de l’espace des motifs"
   ]
  },
  {
   "cell_type": "markdown",
   "id": "binding-scenario",
   "metadata": {},
   "source": [
    "Bernoud - Bouaddi - Martineau - Ouhssaine"
   ]
  },
  {
   "cell_type": "code",
   "execution_count": 1,
   "id": "demanding-bench",
   "metadata": {},
   "outputs": [],
   "source": [
    "import pandas as pd\n",
    "import numpy as np\n",
    "import random as rd"
   ]
  },
  {
   "cell_type": "markdown",
   "id": "exact-magic",
   "metadata": {},
   "source": [
    "### Question 1 : Algorithme d’échantillonnage des motifs fréquents"
   ]
  },
  {
   "cell_type": "code",
   "execution_count": 2,
   "id": "rocky-wiring",
   "metadata": {},
   "outputs": [],
   "source": [
    "def poids1(ligne):\n",
    "    return 2**len(ligne)"
   ]
  },
  {
   "cell_type": "code",
   "execution_count": 3,
   "id": "frank-timeline",
   "metadata": {},
   "outputs": [],
   "source": [
    "def txt_to_list(data, n, poids = poids1):\n",
    "    tab_ligne = []\n",
    "    tab_poids = []\n",
    "    for i in range (n):\n",
    "        ligne = data.readline()\n",
    "        tmp = np.array(ligne.strip(\" \\n\").split(\" \"))\n",
    "        tab_ligne.append(tmp)\n",
    "        tab_poids.append(poids1(tmp))\n",
    "    return tab_ligne, tab_poids"
   ]
  },
  {
   "cell_type": "code",
   "execution_count": 4,
   "id": "intensive-finder",
   "metadata": {},
   "outputs": [],
   "source": [
    "def read_file(data_name):\n",
    "    data = open(data_name)\n",
    "    n = len(data.readlines())\n",
    "    data = open(data_name)\n",
    "    return n,data"
   ]
  },
  {
   "cell_type": "code",
   "execution_count": 5,
   "id": "atmospheric-skirt",
   "metadata": {},
   "outputs": [],
   "source": [
    "def frequency_draw(ligne):\n",
    "    motif = []\n",
    "    for i in range(len(ligne)):\n",
    "        r = rd.randint(0,1)\n",
    "        if r == 1 :\n",
    "            motif.append(ligne[i])\n",
    "    return motif"
   ]
  },
  {
   "cell_type": "code",
   "execution_count": 6,
   "id": "systematic-nerve",
   "metadata": {},
   "outputs": [],
   "source": [
    "def tirage_motif(tab_ligne, tab_poids, fonction_tirage = frequency_draw):\n",
    "    ligne = rd.choices(tab_ligne, tab_poids,k=1)\n",
    "    ligne = ligne[0]\n",
    "    return fonction_tirage(ligne)"
   ]
  },
  {
   "cell_type": "code",
   "execution_count": 7,
   "id": "advanced-nurse",
   "metadata": {},
   "outputs": [],
   "source": [
    "def frequency_sample(data_name):\n",
    "    n,data=read_file(data_name)\n",
    "    tab_ligne,tab_poids = txt_to_list(data, n)\n",
    "    motif_tire = tirage_motif(tab_ligne, tab_poids, frequency_draw)\n",
    "    return motif_tire"
   ]
  },
  {
   "cell_type": "code",
   "execution_count": 8,
   "id": "generic-enclosure",
   "metadata": {},
   "outputs": [],
   "source": [
    "k=100\n",
    "tab_motif_freq = []\n",
    "for i in range(k):\n",
    "    tab_motif_freq.append(frequency_sample(\"test.txt\"))"
   ]
  },
  {
   "cell_type": "markdown",
   "id": "actual-socket",
   "metadata": {},
   "source": [
    "### Question 2 : Algorithme d’échantillonnage basé sur l’aire."
   ]
  },
  {
   "cell_type": "code",
   "execution_count": 9,
   "id": "suspected-threat",
   "metadata": {},
   "outputs": [],
   "source": [
    "def poids2(ligne): # Fonction de poids selon l'aire\n",
    "    return len(ligne)*2**(len(ligne)-1)"
   ]
  },
  {
   "cell_type": "code",
   "execution_count": 10,
   "id": "critical-figure",
   "metadata": {},
   "outputs": [],
   "source": [
    "def area_draw(ligne): # Fonction de tirage selon l'aire\n",
    "    motif = []\n",
    "    k = rd.choices(np.arange(len(ligne))+1, np.arange(len(ligne))+1, k = 1)[0]\n",
    "    motif=np.random.choice(ligne,k,False) \n",
    "    motif.sort()\n",
    "    motif = list(motif)\n",
    "    return motif"
   ]
  },
  {
   "cell_type": "code",
   "execution_count": 11,
   "id": "wrapped-following",
   "metadata": {},
   "outputs": [],
   "source": [
    "def area_sample(data_name):\n",
    "    n,data=read_file(data_name)\n",
    "    tab_ligne,tab_poids = txt_to_list(data, n, poids2)\n",
    "    motif_tire = tirage_motif(tab_ligne, tab_poids, area_draw)\n",
    "    return motif_tire"
   ]
  },
  {
   "cell_type": "code",
   "execution_count": 12,
   "id": "approximate-patrick",
   "metadata": {},
   "outputs": [],
   "source": [
    "k=100\n",
    "tab_motif_area = []\n",
    "for i in range(k):\n",
    "    tab_motif_area.append(area_sample(\"test.txt\"))"
   ]
  },
  {
   "cell_type": "markdown",
   "id": "rough-assault",
   "metadata": {},
   "source": [
    "### Question 3 : Valeurs réelles de la fréquence et / ou l’aire en une seule passe sur les données."
   ]
  },
  {
   "cell_type": "code",
   "execution_count": 13,
   "id": "composed-latvia",
   "metadata": {},
   "outputs": [],
   "source": [
    "def motif_in_line(motif,ligne):\n",
    "    for i in range (len(motif)):\n",
    "        if motif[i] not in ligne:\n",
    "            return False\n",
    "    return True\n"
   ]
  },
  {
   "cell_type": "code",
   "execution_count": 14,
   "id": "individual-siemens",
   "metadata": {},
   "outputs": [],
   "source": [
    "def freq_motif(tab_motif,tab_ligne):\n",
    "    tab_freq=[]\n",
    "    for i in range(len(tab_motif)):\n",
    "        freq=0\n",
    "        for j in range(len(tab_ligne)):\n",
    "            freq+=motif_in_line(tab_motif[i],tab_ligne[j])\n",
    "        tab_freq.append(freq)\n",
    "    return tab_freq"
   ]
  },
  {
   "cell_type": "code",
   "execution_count": 15,
   "id": "local-brave",
   "metadata": {},
   "outputs": [],
   "source": [
    "def area_motif(tab_motif,tab_freq):\n",
    "    tab_area=[]\n",
    "    for i in range(len(tab_freq)):\n",
    "        tab_area.append(tab_freq[i]*len(tab_motif[i]))\n",
    "    return tab_area"
   ]
  },
  {
   "cell_type": "code",
   "execution_count": 16,
   "id": "sexual-coordinator",
   "metadata": {},
   "outputs": [],
   "source": [
    "def find_freq_area(tab_motif,data_name):\n",
    "    n,data=read_file(data_name)\n",
    "    tab_ligne,tab_poids = txt_to_list(data, n)\n",
    "    tab_freq=freq_motif(tab_motif,tab_ligne)\n",
    "    tab_area=area_motif(tab_motif,tab_freq)\n",
    "    return tab_freq,tab_area"
   ]
  },
  {
   "cell_type": "code",
   "execution_count": 17,
   "id": "prime-richards",
   "metadata": {},
   "outputs": [],
   "source": [
    "tab_freq,tab_area=find_freq_area(tab_motif_freq,\"test.txt\")"
   ]
  },
  {
   "cell_type": "markdown",
   "id": "other-adjustment",
   "metadata": {},
   "source": [
    "### Question 4 : Test sur l'échantillon chess.txt"
   ]
  },
  {
   "cell_type": "code",
   "execution_count": 18,
   "id": "legendary-dallas",
   "metadata": {},
   "outputs": [],
   "source": [
    "k=100\n",
    "tab_motif_freq = []\n",
    "for i in range(k):\n",
    "    tab_motif_freq.append(frequency_sample(\"chess.txt\"))\n"
   ]
  },
  {
   "cell_type": "code",
   "execution_count": 19,
   "id": "present-stroke",
   "metadata": {},
   "outputs": [],
   "source": [
    "k=100\n",
    "tab_motif_area = []\n",
    "for i in range(k):\n",
    "    tab_motif_area.append(area_sample(\"chess.txt\"))\n"
   ]
  },
  {
   "cell_type": "code",
   "execution_count": 20,
   "id": "meaning-terror",
   "metadata": {},
   "outputs": [],
   "source": [
    "tab_freq,tab_area=find_freq_area(tab_motif_freq,\"chess.txt\")"
   ]
  },
  {
   "cell_type": "markdown",
   "id": "labeled-aluminum",
   "metadata": {},
   "source": [
    "### Question 5 : Etude empirique"
   ]
  },
  {
   "cell_type": "code",
   "execution_count": 21,
   "id": "surface-passage",
   "metadata": {},
   "outputs": [],
   "source": [
    "def enlever_doublons(tab_motif):\n",
    "    output = []\n",
    "    for x in tab_motif:\n",
    "        if x not in output:\n",
    "            output.append(x)\n",
    "    return (output)"
   ]
  },
  {
   "cell_type": "code",
   "execution_count": 22,
   "id": "affiliated-honor",
   "metadata": {},
   "outputs": [],
   "source": [
    "def compter_doublons(tab, tab_motif):\n",
    "    score = []\n",
    "    for x in tab_motif:\n",
    "        a = tab.count(x)\n",
    "        score.append(a)\n",
    "    return score\n",
    "    "
   ]
  },
  {
   "cell_type": "code",
   "execution_count": 23,
   "id": "viral-curtis",
   "metadata": {},
   "outputs": [],
   "source": [
    "k = 4000\n",
    "tab_motif_freq = []\n",
    "tab_motif_area = []\n",
    "for i in range(k):\n",
    "    tab_motif_freq.append(frequency_sample(\"test.txt\"))\n",
    "    tab_motif_area.append(area_sample(\"test.txt\"))\n",
    "tab_motif_freq2 = enlever_doublons(tab_motif_freq)\n",
    "tab_motif_area2 = enlever_doublons(tab_motif_area)\n",
    "tab_freq_reelle1, tab_area = find_freq_area(tab_motif_freq2, \"test.txt\")\n",
    "tab_freq_reelle2, tab_area = find_freq_area(tab_motif_area2, \"test.txt\")\n",
    "tab_freq_empirique1 = compter_doublons(tab_motif_freq, tab_motif_freq2)\n",
    "tab_area_empirique2 = compter_doublons(tab_motif_area, tab_motif_area2)"
   ]
  },
  {
   "cell_type": "code",
   "execution_count": 24,
   "id": "isolated-cursor",
   "metadata": {},
   "outputs": [
    {
     "data": {
      "text/plain": [
       "<BarContainer object of 32 artists>"
      ]
     },
     "execution_count": 24,
     "metadata": {},
     "output_type": "execute_result"
    },
    {
     "data": {
      "image/png": "[encoded data removed]",
      "text/plain": [
       "<Figure size 432x288 with 1 Axes>"
      ]
     },
     "metadata": {
      "needs_background": "light"
     },
     "output_type": "display_data"
    }
   ],
   "source": [
    "import matplotlib.pyplot as plt\n",
    "x = np.arange(1,len(tab_freq_reelle1)+1)\n",
    "plt.bar(x-0.25, np.array(tab_freq_reelle1)/sum(tab_freq_reelle1), 0.3)\n",
    "plt.bar(x+0.25, np.array(tab_freq_empirique1)/sum(tab_freq_empirique1), 0.3)"
   ]
  },
  {
   "cell_type": "code",
   "execution_count": 25,
   "id": "latter-enterprise",
   "metadata": {},
   "outputs": [
    {
     "name": "stdout",
     "output_type": "stream",
     "text": [
      "31\n"
     ]
    },
    {
     "data": {
      "image/png": "[encoded data removed]",
      "text/plain": [
       "<Figure size 432x288 with 1 Axes>"
      ]
     },
     "metadata": {
      "needs_background": "light"
     },
     "output_type": "display_data"
    }
   ],
   "source": [
    "x = np.arange(1,len(tab_freq_reelle2)+1)\n",
    "plt.bar(x-0.25, np.array(tab_freq_reelle2)/sum(tab_freq_reelle2), 0.3)\n",
    "plt.bar(x+0.25, np.array(tab_area_empirique2)/sum(tab_area_empirique2), 0.3)\n",
    "print(len(tab_area_empirique2))"
   ]
  }
 ],
 "metadata": {
  "kernelspec": {
   "display_name": "Python 3",
   "language": "python",
   "name": "python3"
  },
  "language_info": {
   "codemirror_mode": {
    "name": "ipython",
    "version": 3
   },
   "file_extension": ".py",
   "mimetype": "text/x-python",
   "name": "python",
   "nbconvert_exporter": "python",
   "pygments_lexer": "ipython3",
   "version": "3.8.7"
  }
 },
 "nbformat": 4,
 "nbformat_minor": 5
}
